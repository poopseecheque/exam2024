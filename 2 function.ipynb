{
 "cells": [
  {
   "cell_type": "code",
   "execution_count": 1,
   "id": "dcff16f5-92cf-4066-91fa-732d6ccd9430",
   "metadata": {
    "tags": []
   },
   "outputs": [],
   "source": [
    "def is_power(powered_number, base_number):\n",
    "    n = base_number\n",
    "    power_counter = 1\n",
    "    while n<powered_number:\n",
    "        n=n*n\n",
    "        power_counter+=1\n",
    "    if n==powered_number:\n",
    "        return \"true\"\n",
    "    else:\n",
    "        return \"false\""
   ]
  },
  {
   "cell_type": "code",
   "execution_count": 4,
   "id": "b4a8211f-5013-4a52-acf1-56eaac834f28",
   "metadata": {
    "tags": []
   },
   "outputs": [
    {
     "data": {
      "text/plain": [
       "'false'"
      ]
     },
     "execution_count": 4,
     "metadata": {},
     "output_type": "execute_result"
    }
   ],
   "source": [
    "is_power(10000, 11)"
   ]
  }
 ],
 "metadata": {
  "kernelspec": {
   "display_name": "Python 3 (ipykernel)",
   "language": "python",
   "name": "python3"
  },
  "language_info": {
   "codemirror_mode": {
    "name": "ipython",
    "version": 3
   },
   "file_extension": ".py",
   "mimetype": "text/x-python",
   "name": "python",
   "nbconvert_exporter": "python",
   "pygments_lexer": "ipython3",
   "version": "3.10.8"
  }
 },
 "nbformat": 4,
 "nbformat_minor": 5
}
