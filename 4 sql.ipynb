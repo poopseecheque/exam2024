{
 "cells": [
  {
   "cell_type": "code",
   "execution_count": 1,
   "id": "791c5c22-3e0f-4ed8-9944-566bf14c2617",
   "metadata": {
    "tags": []
   },
   "outputs": [
    {
     "name": "stdout",
     "output_type": "stream",
     "text": [
      "POSTGRESQL_USER=reader\n",
      "POSTGRESQL_PASSWORD=Miba2021\n"
     ]
    }
   ],
   "source": [
    "%load_ext sql\n",
    "!env | grep POST\n",
    "import os\n",
    "USER = os.environ['POSTGRESQL_USER']\n",
    "PASSWORD = os.environ['POSTGRESQL_PASSWORD']\n",
    "POSTGRESQL_HOST = '10.129.0.25'\n",
    "DBASE_NAME = 'demo'\n"
   ]
  },
  {
   "cell_type": "code",
   "execution_count": 11,
   "id": "0a8f6185-5aeb-477f-a15a-6ebb2a0de000",
   "metadata": {
    "tags": []
   },
   "outputs": [
    {
     "name": "stdout",
     "output_type": "stream",
     "text": [
      "[('postgres',), ('jovyan',), ('template1',), ('template0',)]\n"
     ]
    }
   ],
   "source": [
    "import psycopg2\n",
    "\n",
    "with psycopg2.connect(\n",
    "    dbname='jovyan'\n",
    ") as conn:\n",
    "    with conn.cursor() as cur:\n",
    "        cur.execute('SELECT datname FROM pg_database')\n",
    "        records = cur.fetchall()\n",
    "        \n",
    "print(records)"
   ]
  },
  {
   "cell_type": "code",
   "execution_count": 12,
   "id": "f09f5776-f21c-42d9-8c1b-fa1d62e3111e",
   "metadata": {
    "tags": []
   },
   "outputs": [
    {
     "name": "stdout",
     "output_type": "stream",
     "text": [
      "(psycopg2.errors.DuplicateTable) relation \"departments\" already exists\n",
      "\n",
      "[SQL: CREATE TABLE Departments (DEPARTMENT_ID INT PRIMARY KEY,\n",
      "                          DEPARTMENT_NAME VARCHAR(50),\n",
      "                          MANAGER_ID INT)]\n",
      "(Background on this error at: https://sqlalche.me/e/20/f405)\n"
     ]
    }
   ],
   "source": [
    "%%sql postgresql:///jovyan\n",
    "CREATE TABLE Departments (DEPARTMENT_ID INT PRIMARY KEY,\n",
    "                          DEPARTMENT_NAME VARCHAR(50),\n",
    "                          MANAGER_ID INT)"
   ]
  },
  {
   "cell_type": "code",
   "execution_count": 13,
   "id": "8fe99e4c-e54e-400d-ac07-348047d95499",
   "metadata": {
    "tags": []
   },
   "outputs": [
    {
     "name": "stdout",
     "output_type": "stream",
     "text": [
      "Done.\n"
     ]
    },
    {
     "data": {
      "text/plain": [
       "[]"
      ]
     },
     "execution_count": 13,
     "metadata": {},
     "output_type": "execute_result"
    }
   ],
   "source": [
    "%%sql postgresql:///jovyan\n",
    "CREATE TABLE Employees (EMPLOYEE_ID INT PRIMARY KEY,\n",
    "                        FIRST_NAME VARCHAR(20),\n",
    "                        LAST_NAME VARCHAR(20),\n",
    "                        HIRE_DATE DATE,\n",
    "                        JOB_ID VARCHAR(20),\n",
    "                        MANAGER_ID INT,\n",
    "                        DEPARTMENT_ID INT)"
   ]
  },
  {
   "cell_type": "code",
   "execution_count": 14,
   "id": "e7bb9fc7-42ee-422a-9897-cfb720421ab4",
   "metadata": {
    "tags": []
   },
   "outputs": [
    {
     "name": "stdout",
     "output_type": "stream",
     "text": [
      "12 rows affected.\n"
     ]
    },
    {
     "data": {
      "text/plain": [
       "[]"
      ]
     },
     "execution_count": 14,
     "metadata": {},
     "output_type": "execute_result"
    }
   ],
   "source": [
    "%%sql postgresql:///jovyan\n",
    "\n",
    "INSERT INTO Employees (EMPLOYEE_ID, FIRST_NAME, LAST_NAME, HIRE_DATE, JOB_ID, MANAGER_ID, DEPARTMENT_ID)\n",
    "VALUES\n",
    "(100, 'Steven', 'King', '1987-06-17', 'AD_PRES', 0, 90),\n",
    "(101, 'Neena', 'Kochhar', '1987-06-18', 'AD_VP', 100, 90),\n",
    "(102, 'Lex', 'DeHaan', '1987-06-19', 'AD_VP', 100, 90),\n",
    "(103, 'Alexander', 'Hunold', '1987-06-20', 'IT_PROG', 102, 60),\n",
    "(107, 'Diana', 'Lorentz', '1987-06-24', 'IT_PROG', 103, 60),\n",
    "(108, 'Nancy', 'Greenberg', '1987-06-25', 'FI_MGR', 101, 100),\n",
    "(109, 'Daniel', 'Faviet', '1987-06-26', 'FI_ACCOUNT', 108, 100),\n",
    "(114, 'Den', 'Raphaely', '1987-07-01', 'PU_MAN', 100, 30),\n",
    "(118, 'Guy', 'Himuro', '1987-07-05', 'PU_CLERK', 114, 30),\n",
    "(144, 'Peter', 'Vargas', '1987-07-31', 'ST_CLERK', 114, 50),\n",
    "(145, 'John', 'Russell', '1987-08-01', 'SA_MAN', 100, 80),\n",
    "(146, 'Karen', 'Partners', '1987-08-02', 'SA_MAN', 100, 80)"
   ]
  },
  {
   "cell_type": "code",
   "execution_count": 15,
   "id": "e5c1cef2-2f1f-4e92-8ef1-eca5a8b73dbd",
   "metadata": {
    "tags": []
   },
   "outputs": [
    {
     "name": "stdout",
     "output_type": "stream",
     "text": [
      "(psycopg2.errors.UniqueViolation) duplicate key value violates unique constraint \"departments_pkey\"\n",
      "DETAIL:  Key (department_id)=(10) already exists.\n",
      "\n",
      "[SQL: INSERT INTO Departments (DEPARTMENT_ID, DEPARTMENT_NAME, MANAGER_ID)\n",
      "VALUES\n",
      "(10, 'Administration', 200),\n",
      "(30, 'Purchasing', 114),\n",
      "(40, 'HumanResources', 203),\n",
      "(50, 'Shipping', 121),\n",
      "(60, 'IT', 103),\n",
      "(70, 'PublicRelations', 204),\n",
      "(80, 'Sales', 145),\n",
      "(90, 'Executive', 100),\n",
      "(100, 'Finance', 108),\n",
      "(110, 'Accounting', 205)]\n",
      "(Background on this error at: https://sqlalche.me/e/20/gkpj)\n"
     ]
    }
   ],
   "source": [
    "%%sql postgresql:///jovyan\n",
    "INSERT INTO Departments (DEPARTMENT_ID, DEPARTMENT_NAME, MANAGER_ID)\n",
    "VALUES\n",
    "(10, 'Administration', 200),\n",
    "(30, 'Purchasing', 114),\n",
    "(40, 'HumanResources', 203),\n",
    "(50, 'Shipping', 121),\n",
    "(60, 'IT', 103),\n",
    "(70, 'PublicRelations', 204),\n",
    "(80, 'Sales', 145),\n",
    "(90, 'Executive', 100),\n",
    "(100, 'Finance', 108),\n",
    "(110, 'Accounting', 205)"
   ]
  },
  {
   "cell_type": "code",
   "execution_count": 16,
   "id": "0366f4a1-ce8f-4569-a20b-cd5415d217b9",
   "metadata": {
    "tags": []
   },
   "outputs": [
    {
     "name": "stdout",
     "output_type": "stream",
     "text": [
      "12 rows affected.\n"
     ]
    },
    {
     "data": {
      "text/html": [
       "<table>\n",
       "    <thead>\n",
       "        <tr>\n",
       "            <th>employee_id</th>\n",
       "            <th>first_name</th>\n",
       "            <th>last_name</th>\n",
       "            <th>hire_date</th>\n",
       "            <th>job_id</th>\n",
       "            <th>manager_id</th>\n",
       "            <th>department_id</th>\n",
       "        </tr>\n",
       "    </thead>\n",
       "    <tbody>\n",
       "        <tr>\n",
       "            <td>100</td>\n",
       "            <td>Steven</td>\n",
       "            <td>King</td>\n",
       "            <td>1987-06-17</td>\n",
       "            <td>AD_PRES</td>\n",
       "            <td>0</td>\n",
       "            <td>90</td>\n",
       "        </tr>\n",
       "        <tr>\n",
       "            <td>101</td>\n",
       "            <td>Neena</td>\n",
       "            <td>Kochhar</td>\n",
       "            <td>1987-06-18</td>\n",
       "            <td>AD_VP</td>\n",
       "            <td>100</td>\n",
       "            <td>90</td>\n",
       "        </tr>\n",
       "        <tr>\n",
       "            <td>102</td>\n",
       "            <td>Lex</td>\n",
       "            <td>DeHaan</td>\n",
       "            <td>1987-06-19</td>\n",
       "            <td>AD_VP</td>\n",
       "            <td>100</td>\n",
       "            <td>90</td>\n",
       "        </tr>\n",
       "        <tr>\n",
       "            <td>103</td>\n",
       "            <td>Alexander</td>\n",
       "            <td>Hunold</td>\n",
       "            <td>1987-06-20</td>\n",
       "            <td>IT_PROG</td>\n",
       "            <td>102</td>\n",
       "            <td>60</td>\n",
       "        </tr>\n",
       "        <tr>\n",
       "            <td>107</td>\n",
       "            <td>Diana</td>\n",
       "            <td>Lorentz</td>\n",
       "            <td>1987-06-24</td>\n",
       "            <td>IT_PROG</td>\n",
       "            <td>103</td>\n",
       "            <td>60</td>\n",
       "        </tr>\n",
       "        <tr>\n",
       "            <td>108</td>\n",
       "            <td>Nancy</td>\n",
       "            <td>Greenberg</td>\n",
       "            <td>1987-06-25</td>\n",
       "            <td>FI_MGR</td>\n",
       "            <td>101</td>\n",
       "            <td>100</td>\n",
       "        </tr>\n",
       "        <tr>\n",
       "            <td>109</td>\n",
       "            <td>Daniel</td>\n",
       "            <td>Faviet</td>\n",
       "            <td>1987-06-26</td>\n",
       "            <td>FI_ACCOUNT</td>\n",
       "            <td>108</td>\n",
       "            <td>100</td>\n",
       "        </tr>\n",
       "        <tr>\n",
       "            <td>114</td>\n",
       "            <td>Den</td>\n",
       "            <td>Raphaely</td>\n",
       "            <td>1987-07-01</td>\n",
       "            <td>PU_MAN</td>\n",
       "            <td>100</td>\n",
       "            <td>30</td>\n",
       "        </tr>\n",
       "        <tr>\n",
       "            <td>118</td>\n",
       "            <td>Guy</td>\n",
       "            <td>Himuro</td>\n",
       "            <td>1987-07-05</td>\n",
       "            <td>PU_CLERK</td>\n",
       "            <td>114</td>\n",
       "            <td>30</td>\n",
       "        </tr>\n",
       "        <tr>\n",
       "            <td>144</td>\n",
       "            <td>Peter</td>\n",
       "            <td>Vargas</td>\n",
       "            <td>1987-07-31</td>\n",
       "            <td>ST_CLERK</td>\n",
       "            <td>114</td>\n",
       "            <td>50</td>\n",
       "        </tr>\n",
       "        <tr>\n",
       "            <td>145</td>\n",
       "            <td>John</td>\n",
       "            <td>Russell</td>\n",
       "            <td>1987-08-01</td>\n",
       "            <td>SA_MAN</td>\n",
       "            <td>100</td>\n",
       "            <td>80</td>\n",
       "        </tr>\n",
       "        <tr>\n",
       "            <td>146</td>\n",
       "            <td>Karen</td>\n",
       "            <td>Partners</td>\n",
       "            <td>1987-08-02</td>\n",
       "            <td>SA_MAN</td>\n",
       "            <td>100</td>\n",
       "            <td>80</td>\n",
       "        </tr>\n",
       "    </tbody>\n",
       "</table>"
      ],
      "text/plain": [
       "[(100, 'Steven', 'King', datetime.date(1987, 6, 17), 'AD_PRES', 0, 90),\n",
       " (101, 'Neena', 'Kochhar', datetime.date(1987, 6, 18), 'AD_VP', 100, 90),\n",
       " (102, 'Lex', 'DeHaan', datetime.date(1987, 6, 19), 'AD_VP', 100, 90),\n",
       " (103, 'Alexander', 'Hunold', datetime.date(1987, 6, 20), 'IT_PROG', 102, 60),\n",
       " (107, 'Diana', 'Lorentz', datetime.date(1987, 6, 24), 'IT_PROG', 103, 60),\n",
       " (108, 'Nancy', 'Greenberg', datetime.date(1987, 6, 25), 'FI_MGR', 101, 100),\n",
       " (109, 'Daniel', 'Faviet', datetime.date(1987, 6, 26), 'FI_ACCOUNT', 108, 100),\n",
       " (114, 'Den', 'Raphaely', datetime.date(1987, 7, 1), 'PU_MAN', 100, 30),\n",
       " (118, 'Guy', 'Himuro', datetime.date(1987, 7, 5), 'PU_CLERK', 114, 30),\n",
       " (144, 'Peter', 'Vargas', datetime.date(1987, 7, 31), 'ST_CLERK', 114, 50),\n",
       " (145, 'John', 'Russell', datetime.date(1987, 8, 1), 'SA_MAN', 100, 80),\n",
       " (146, 'Karen', 'Partners', datetime.date(1987, 8, 2), 'SA_MAN', 100, 80)]"
      ]
     },
     "execution_count": 16,
     "metadata": {},
     "output_type": "execute_result"
    }
   ],
   "source": [
    "%%sql postgresql:///jovyan\n",
    "select * from Employees"
   ]
  },
  {
   "cell_type": "code",
   "execution_count": 17,
   "id": "8e2fb172-ed54-43bb-8ba4-525570f833d9",
   "metadata": {
    "collapsed": true,
    "jupyter": {
     "outputs_hidden": true
    },
    "tags": []
   },
   "outputs": [
    {
     "name": "stdout",
     "output_type": "stream",
     "text": [
      "10 rows affected.\n"
     ]
    },
    {
     "data": {
      "text/html": [
       "<table>\n",
       "    <thead>\n",
       "        <tr>\n",
       "            <th>department_id</th>\n",
       "            <th>department_name</th>\n",
       "            <th>manager_id</th>\n",
       "        </tr>\n",
       "    </thead>\n",
       "    <tbody>\n",
       "        <tr>\n",
       "            <td>10</td>\n",
       "            <td>Administration</td>\n",
       "            <td>200</td>\n",
       "        </tr>\n",
       "        <tr>\n",
       "            <td>30</td>\n",
       "            <td>Purchasing</td>\n",
       "            <td>114</td>\n",
       "        </tr>\n",
       "        <tr>\n",
       "            <td>40</td>\n",
       "            <td>HumanResources</td>\n",
       "            <td>203</td>\n",
       "        </tr>\n",
       "        <tr>\n",
       "            <td>50</td>\n",
       "            <td>Shipping</td>\n",
       "            <td>121</td>\n",
       "        </tr>\n",
       "        <tr>\n",
       "            <td>60</td>\n",
       "            <td>IT</td>\n",
       "            <td>103</td>\n",
       "        </tr>\n",
       "        <tr>\n",
       "            <td>70</td>\n",
       "            <td>PublicRelations</td>\n",
       "            <td>204</td>\n",
       "        </tr>\n",
       "        <tr>\n",
       "            <td>80</td>\n",
       "            <td>Sales</td>\n",
       "            <td>145</td>\n",
       "        </tr>\n",
       "        <tr>\n",
       "            <td>90</td>\n",
       "            <td>Executive</td>\n",
       "            <td>100</td>\n",
       "        </tr>\n",
       "        <tr>\n",
       "            <td>100</td>\n",
       "            <td>Finance</td>\n",
       "            <td>108</td>\n",
       "        </tr>\n",
       "        <tr>\n",
       "            <td>110</td>\n",
       "            <td>Accounting</td>\n",
       "            <td>205</td>\n",
       "        </tr>\n",
       "    </tbody>\n",
       "</table>"
      ],
      "text/plain": [
       "[(10, 'Administration', 200),\n",
       " (30, 'Purchasing', 114),\n",
       " (40, 'HumanResources', 203),\n",
       " (50, 'Shipping', 121),\n",
       " (60, 'IT', 103),\n",
       " (70, 'PublicRelations', 204),\n",
       " (80, 'Sales', 145),\n",
       " (90, 'Executive', 100),\n",
       " (100, 'Finance', 108),\n",
       " (110, 'Accounting', 205)]"
      ]
     },
     "execution_count": 17,
     "metadata": {},
     "output_type": "execute_result"
    }
   ],
   "source": [
    "%%sql postgresql:///jovyan\n",
    "select * from departments"
   ]
  },
  {
   "cell_type": "code",
   "execution_count": 26,
   "id": "ab8a0331-eeac-4148-80f9-874abd57edbd",
   "metadata": {
    "tags": []
   },
   "outputs": [
    {
     "name": "stdout",
     "output_type": "stream",
     "text": [
      "6 rows affected.\n"
     ]
    },
    {
     "data": {
      "text/html": [
       "<table>\n",
       "    <thead>\n",
       "        <tr>\n",
       "            <th>Department Name</th>\n",
       "            <th>Manager Name</th>\n",
       "            <th>Number of Employees</th>\n",
       "        </tr>\n",
       "    </thead>\n",
       "    <tbody>\n",
       "        <tr>\n",
       "            <td>Executive</td>\n",
       "            <td>Steven Steven</td>\n",
       "            <td>3</td>\n",
       "        </tr>\n",
       "        <tr>\n",
       "            <td>Finance</td>\n",
       "            <td>Nancy Nancy</td>\n",
       "            <td>2</td>\n",
       "        </tr>\n",
       "        <tr>\n",
       "            <td>IT</td>\n",
       "            <td>Alexander Alexander</td>\n",
       "            <td>2</td>\n",
       "        </tr>\n",
       "        <tr>\n",
       "            <td>Purchasing</td>\n",
       "            <td>Den Den</td>\n",
       "            <td>2</td>\n",
       "        </tr>\n",
       "        <tr>\n",
       "            <td>Sales</td>\n",
       "            <td>John John</td>\n",
       "            <td>2</td>\n",
       "        </tr>\n",
       "        <tr>\n",
       "            <td>Shipping</td>\n",
       "            <td>None</td>\n",
       "            <td>1</td>\n",
       "        </tr>\n",
       "    </tbody>\n",
       "</table>"
      ],
      "text/plain": [
       "[('Executive', 'Steven Steven', 3),\n",
       " ('Finance', 'Nancy Nancy', 2),\n",
       " ('IT', 'Alexander Alexander', 2),\n",
       " ('Purchasing', 'Den Den', 2),\n",
       " ('Sales', 'John John', 2),\n",
       " ('Shipping', None, 1)]"
      ]
     },
     "execution_count": 26,
     "metadata": {},
     "output_type": "execute_result"
    }
   ],
   "source": [
    "%%sql postgresql:///jovyan\n",
    "\n",
    "SELECT d.department_name AS \"Department Name\", mgr.first_name  ||' '|| mgr.first_name AS \"Manager Name\",  COUNT(emp.employee_id) AS \"Number of Employees\"\n",
    "FROM Departments d\n",
    "JOIN Employees emp USING (department_id)\n",
    "LEFT JOIN Employees mgr ON d.manager_id = mgr.employee_id\n",
    "GROUP BY  \"Department Name\", \"Manager Name\"\n",
    "ORDER BY  \"Department Name\"\n"
   ]
  }
 ],
 "metadata": {
  "kernelspec": {
   "display_name": "Python 3 (ipykernel)",
   "language": "python",
   "name": "python3"
  },
  "language_info": {
   "codemirror_mode": {
    "name": "ipython",
    "version": 3
   },
   "file_extension": ".py",
   "mimetype": "text/x-python",
   "name": "python",
   "nbconvert_exporter": "python",
   "pygments_lexer": "ipython3",
   "version": "3.10.9"
  }
 },
 "nbformat": 4,
 "nbformat_minor": 5
}
